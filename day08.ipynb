{
 "cells": [
  {
   "cell_type": "code",
   "execution_count": 1,
   "metadata": {},
   "outputs": [],
   "source": [
    "from pymongo import MongoClient"
   ]
  },
  {
   "cell_type": "code",
   "execution_count": 2,
   "metadata": {},
   "outputs": [],
   "source": [
    "# Connect the mongo server\n",
    "client = MongoClient(host='127.0.0.1', port=27017)"
   ]
  },
  {
   "cell_type": "code",
   "execution_count": 3,
   "metadata": {},
   "outputs": [],
   "source": [
    "# Choose which table to sue\n",
    "db = client[\"Member\"]"
   ]
  },
  {
   "cell_type": "code",
   "execution_count": 4,
   "metadata": {},
   "outputs": [],
   "source": [
    "# Get the collection from database\n",
    "collection = db[\"member\"]"
   ]
  },
  {
   "cell_type": "code",
   "execution_count": 5,
   "metadata": {},
   "outputs": [
    {
     "data": {
      "text/plain": [
       "2"
      ]
     },
     "execution_count": 5,
     "metadata": {},
     "output_type": "execute_result"
    }
   ],
   "source": [
    "# Length of record\n",
    "collection.count_documents({})"
   ]
  },
  {
   "cell_type": "code",
   "execution_count": 6,
   "metadata": {},
   "outputs": [],
   "source": [
    "# My data\n",
    "my_data = {\"name\": \"Jason\", \"phone\": '0917381313', \"mail\": 'jason@gmail.com'}"
   ]
  },
  {
   "cell_type": "code",
   "execution_count": 7,
   "metadata": {},
   "outputs": [],
   "source": [
    "# Insert one data to database\n",
    "result = collection.insert_one(my_data)"
   ]
  },
  {
   "cell_type": "code",
   "execution_count": 8,
   "metadata": {},
   "outputs": [
    {
     "name": "stdout",
     "output_type": "stream",
     "text": [
      "5fd59f8ea13fbf3061d1885c\n"
     ]
    }
   ],
   "source": [
    "print(result.inserted_id)"
   ]
  },
  {
   "cell_type": "markdown",
   "metadata": {},
   "source": [
    "### Result in Mongo shell\n",
    "\n",
    "```shell\n",
    "> db.member.find({}).pretty()\n",
    "\n",
    "{\n",
    "\t\"_id\" : ObjectId(\"5fd4630e48bdc878a9418964\"),\n",
    "\t\"name\" : \"Cathy\",\n",
    "\t\"email\" : \"test@abc.com\",\n",
    "\t\"phone\" : 921345678,\n",
    "\t\"age\" : 25\n",
    "}\n",
    "{\n",
    "\t\"_id\" : ObjectId(\"5fd59a87a169dce12b86763a\"),\n",
    "\t\"name\" : \"Jason\",\n",
    "\t\"phone\" : \"0917381313\",\n",
    "\t\"mail\" : \"jason@gmail.com\"\n",
    "}\n",
    "```"
   ]
  },
  {
   "cell_type": "code",
   "execution_count": 9,
   "metadata": {},
   "outputs": [],
   "source": [
    "# Create multidata\n",
    "data_list = [\n",
    "                {\"name\": \"Kevin\", \"phone\": '0917381214', \"mail\": 'jason@gmail.com'},\n",
    "                {\"name\": \"Betty\", \"phone\": '0917383242', \"mail\": 'betty@gmail.com'},\n",
    "                {\"name\": \"Allen\", \"phone\": '0917388934', \"mail\": 'allen@gmail.com'}\n",
    "            ]"
   ]
  },
  {
   "cell_type": "code",
   "execution_count": 10,
   "metadata": {},
   "outputs": [],
   "source": [
    "# Inserte multiple data\n",
    "result = collection.insert_many(data_list)"
   ]
  },
  {
   "cell_type": "code",
   "execution_count": 11,
   "metadata": {},
   "outputs": [
    {
     "name": "stdout",
     "output_type": "stream",
     "text": [
      "[ObjectId('5fd59f8ea13fbf3061d1885d'), ObjectId('5fd59f8ea13fbf3061d1885e'), ObjectId('5fd59f8ea13fbf3061d1885f')]\n"
     ]
    }
   ],
   "source": [
    "print(result.inserted_ids)"
   ]
  },
  {
   "cell_type": "markdown",
   "metadata": {},
   "source": [
    "### Result in Mongo shell\n",
    "```shell\n",
    "> db.member.find({}).pretty()\n",
    "{\n",
    "\t\"_id\" : ObjectId(\"5fd4630e48bdc878a9418964\"),\n",
    "\t\"name\" : \"Cathy\",\n",
    "\t\"email\" : \"test@abc.com\",\n",
    "\t\"phone\" : 921345678,\n",
    "\t\"age\" : 25\n",
    "}\n",
    "{\n",
    "\t\"_id\" : ObjectId(\"5fd59a87a169dce12b86763a\"),\n",
    "\t\"name\" : \"Jason\",\n",
    "\t\"phone\" : \"0917381313\",\n",
    "\t\"mail\" : \"jason@gmail.com\"\n",
    "}\n",
    "{\n",
    "\t\"_id\" : ObjectId(\"5fd59be4a169dce12b86763b\"),\n",
    "\t\"name\" : \"Kevin\",\n",
    "\t\"phone\" : \"0917381214\",\n",
    "\t\"mail\" : \"jason@gmail.com\"\n",
    "}\n",
    "{\n",
    "\t\"_id\" : ObjectId(\"5fd59be4a169dce12b86763c\"),\n",
    "\t\"name\" : \"Betty\",\n",
    "\t\"phone\" : \"0917383242\",\n",
    "\t\"mail\" : \"betty@gmail.com\"\n",
    "}\n",
    "{\n",
    "\t\"_id\" : ObjectId(\"5fd59be4a169dce12b86763d\"),\n",
    "\t\"name\" : \"Allen\",\n",
    "\t\"phone\" : \"0917388934\",\n",
    "\t\"mail\" : \"allen@gmail.com\"\n",
    "}\n",
    "```"
   ]
  },
  {
   "cell_type": "code",
   "execution_count": 12,
   "metadata": {},
   "outputs": [
    {
     "data": {
      "text/plain": [
       "<pymongo.results.DeleteResult at 0x7fbdf1e7ea00>"
      ]
     },
     "execution_count": 12,
     "metadata": {},
     "output_type": "execute_result"
    }
   ],
   "source": [
    "# Delete one\n",
    "collection.delete_one({\"name\": \"Betty\"})"
   ]
  },
  {
   "cell_type": "code",
   "execution_count": 13,
   "metadata": {},
   "outputs": [
    {
     "data": {
      "text/plain": [
       "5"
      ]
     },
     "execution_count": 13,
     "metadata": {},
     "output_type": "execute_result"
    }
   ],
   "source": [
    "# Count the document records\n",
    "collection.count_documents({})"
   ]
  },
  {
   "cell_type": "markdown",
   "metadata": {},
   "source": [
    "### Result in Mongo shell\n",
    "```shell\n",
    "> db.member.find({}).pretty()\n",
    "{\n",
    "\t\"_id\" : ObjectId(\"5fd4630e48bdc878a9418964\"),\n",
    "\t\"name\" : \"Cathy\",\n",
    "\t\"email\" : \"test@abc.com\",\n",
    "\t\"phone\" : 921345678,\n",
    "\t\"age\" : 25\n",
    "}\n",
    "{\n",
    "\t\"_id\" : ObjectId(\"5fd59a87a169dce12b86763a\"),\n",
    "\t\"name\" : \"Jason\",\n",
    "\t\"phone\" : \"0917381313\",\n",
    "\t\"mail\" : \"jason@gmail.com\"\n",
    "}\n",
    "{\n",
    "\t\"_id\" : ObjectId(\"5fd59be4a169dce12b86763b\"),\n",
    "\t\"name\" : \"Kevin\",\n",
    "\t\"phone\" : \"0917381214\",\n",
    "\t\"mail\" : \"jason@gmail.com\"\n",
    "}\n",
    "{\n",
    "\t\"_id\" : ObjectId(\"5fd59be4a169dce12b86763d\"),\n",
    "\t\"name\" : \"Allen\",\n",
    "\t\"phone\" : \"0917388934\",\n",
    "\t\"mail\" : \"allen@gmail.com\"\n",
    "}\n",
    "```"
   ]
  },
  {
   "cell_type": "code",
   "execution_count": 14,
   "metadata": {},
   "outputs": [
    {
     "data": {
      "text/plain": [
       "<pymongo.results.UpdateResult at 0x7fbdf1e824c0>"
      ]
     },
     "execution_count": 14,
     "metadata": {},
     "output_type": "execute_result"
    }
   ],
   "source": [
    "# Condition\n",
    "filter_ = {\"name\": \"Allen\"}\n",
    "\n",
    "# Upate result\n",
    "update_ = {\"$set\": {\"name\": \"Jason\"}}\n",
    "\n",
    "# Update one data\n",
    "collection.update_one(filter_, update_)"
   ]
  },
  {
   "cell_type": "markdown",
   "metadata": {},
   "source": [
    "### Result in Mongo shell\n",
    "```shell\n",
    "> db.member.find({}).pretty()\n",
    "{\n",
    "\t\"_id\" : ObjectId(\"5fd4630e48bdc878a9418964\"),\n",
    "\t\"name\" : \"Cathy\",\n",
    "\t\"email\" : \"test@abc.com\",\n",
    "\t\"phone\" : 921345678,\n",
    "\t\"age\" : 25\n",
    "}\n",
    "{\n",
    "\t\"_id\" : ObjectId(\"5fd59a87a169dce12b86763a\"),\n",
    "\t\"name\" : \"Jason\",\n",
    "\t\"phone\" : \"0917381313\",\n",
    "\t\"mail\" : \"jason@gmail.com\"\n",
    "}\n",
    "{\n",
    "\t\"_id\" : ObjectId(\"5fd59be4a169dce12b86763b\"),\n",
    "\t\"name\" : \"Kevin\",\n",
    "\t\"phone\" : \"0917381214\",\n",
    "\t\"mail\" : \"jason@gmail.com\"\n",
    "}\n",
    "{\n",
    "\t\"_id\" : ObjectId(\"5fd59be4a169dce12b86763d\"),\n",
    "\t\"name\" : \"Jason\",\n",
    "\t\"phone\" : \"0917388934\",\n",
    "\t\"mail\" : \"allen@gmail.com\"\n",
    "}\n",
    "```"
   ]
  },
  {
   "cell_type": "code",
   "execution_count": 15,
   "metadata": {},
   "outputs": [
    {
     "name": "stdout",
     "output_type": "stream",
     "text": [
      "2\n"
     ]
    }
   ],
   "source": [
    "# Delete multiple data\n",
    "result = collection.delete_many({\"name\": \"Jason\"})\n",
    "\n",
    "# how many data being deleted\n",
    "print(result.deleted_count)"
   ]
  },
  {
   "cell_type": "code",
   "execution_count": 16,
   "metadata": {},
   "outputs": [
    {
     "data": {
      "text/plain": [
       "{'_id': ObjectId('5fd4630e48bdc878a9418964'),\n",
       " 'name': 'Cathy',\n",
       " 'email': 'test@abc.com',\n",
       " 'phone': 921345678,\n",
       " 'age': 25}"
      ]
     },
     "execution_count": 16,
     "metadata": {},
     "output_type": "execute_result"
    }
   ],
   "source": [
    "# Find only one data that fit the condition\n",
    "collection.find_one({})"
   ]
  },
  {
   "cell_type": "code",
   "execution_count": 17,
   "metadata": {},
   "outputs": [
    {
     "name": "stdout",
     "output_type": "stream",
     "text": [
      "{'_id': ObjectId('5fd4630e48bdc878a9418964'),\n",
      " 'age': 25,\n",
      " 'email': 'test@abc.com',\n",
      " 'name': 'Cathy',\n",
      " 'phone': 921345678}\n",
      "{'_id': ObjectId('5fd59be4a169dce12b86763b'),\n",
      " 'mail': 'jason@gmail.com',\n",
      " 'name': 'Kevin',\n",
      " 'phone': '0917381214'}\n",
      "{'_id': ObjectId('5fd59f8ea13fbf3061d1885d'),\n",
      " 'mail': 'jason@gmail.com',\n",
      " 'name': 'Kevin',\n",
      " 'phone': '0917381214'}\n"
     ]
    }
   ],
   "source": [
    "from pprint import pprint \n",
    "\n",
    "# Find every data that fit the condition\n",
    "result = collection.find({})\n",
    "\n",
    "for i in result:\n",
    "    pprint(i)"
   ]
  },
  {
   "cell_type": "code",
   "execution_count": 18,
   "metadata": {},
   "outputs": [
    {
     "name": "stdout",
     "output_type": "stream",
     "text": [
      "{'_id': ObjectId('5fd59be4a169dce12b86763b'),\n",
      " 'mail': 'jason@gmail.com',\n",
      " 'name': 'Kevin',\n",
      " 'phone': '0917381214'}\n",
      "{'_id': ObjectId('5fd59f8ea13fbf3061d1885d'),\n",
      " 'mail': 'jason@gmail.com',\n",
      " 'name': 'Kevin',\n",
      " 'phone': '0917381214'}\n",
      "{'_id': ObjectId('5fd4630e48bdc878a9418964'),\n",
      " 'age': 25,\n",
      " 'email': 'test@abc.com',\n",
      " 'name': 'Cathy',\n",
      " 'phone': 921345678}\n",
      "---------------\n",
      "{'_id': ObjectId('5fd4630e48bdc878a9418964'),\n",
      " 'age': 25,\n",
      " 'email': 'test@abc.com',\n",
      " 'name': 'Cathy',\n",
      " 'phone': 921345678}\n",
      "{'_id': ObjectId('5fd59be4a169dce12b86763b'),\n",
      " 'mail': 'jason@gmail.com',\n",
      " 'name': 'Kevin',\n",
      " 'phone': '0917381214'}\n",
      "{'_id': ObjectId('5fd59f8ea13fbf3061d1885d'),\n",
      " 'mail': 'jason@gmail.com',\n",
      " 'name': 'Kevin',\n",
      " 'phone': '0917381214'}\n"
     ]
    }
   ],
   "source": [
    "from pprint import pprint \n",
    "\n",
    "# Find every data that fit the condition and sorted\n",
    "# 1 -> ascending, -1 -> descending\n",
    "result_as = collection.find({}).sort(\"age\", 1)\n",
    "result_ds = collection.find({}).sort(\"age\", -1)\n",
    "\n",
    "for i in result_as:\n",
    "    pprint(i)\n",
    "    \n",
    "print(\"---------------\")\n",
    "\n",
    "for i in result_ds:\n",
    "    pprint(i)"
   ]
  },
  {
   "cell_type": "code",
   "execution_count": 19,
   "metadata": {},
   "outputs": [
    {
     "name": "stdout",
     "output_type": "stream",
     "text": [
      "{'_id': ObjectId('5fd4630e48bdc878a9418964'),\n",
      " 'age': 25,\n",
      " 'email': 'test@abc.com',\n",
      " 'name': 'Cathy',\n",
      " 'phone': 921345678}\n"
     ]
    }
   ],
   "source": [
    "from pprint import pprint \n",
    "\n",
    "# Find every data that fit the condition\n",
    "# and get the first 1 data\n",
    "result = collection.find({}).limit(1)\n",
    "\n",
    "for i in result:\n",
    "    pprint(i)"
   ]
  }
 ],
 "metadata": {
  "kernelspec": {
   "display_name": "Python 3",
   "language": "python",
   "name": "python3"
  },
  "language_info": {
   "codemirror_mode": {
    "name": "ipython",
    "version": 3
   },
   "file_extension": ".py",
   "mimetype": "text/x-python",
   "name": "python",
   "nbconvert_exporter": "python",
   "pygments_lexer": "ipython3",
   "version": "3.8.5"
  }
 },
 "nbformat": 4,
 "nbformat_minor": 4
}
